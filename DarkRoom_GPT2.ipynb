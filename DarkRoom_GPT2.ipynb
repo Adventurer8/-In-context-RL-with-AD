{
  "cells": [
    {
      "cell_type": "markdown",
      "metadata": {
        "id": "view-in-github",
        "colab_type": "text"
      },
      "source": [
        "<a href=\"https://colab.research.google.com/github/Adventurer8/In-context-RL-with-AD/blob/main/DarkRoom_GPT2.ipynb\" target=\"_parent\"><img src=\"https://colab.research.google.com/assets/colab-badge.svg\" alt=\"Open In Colab\"/></a>"
      ]
    },
    {
      "cell_type": "markdown",
      "source": [
        "# **Отчёт**\n",
        "По заданию на вакансию [Intern Research Scientist](https://shell-lillipilli-1d0.notion.site/Intern-Research-Scientist-1eb13525009b419bb93d5181bfe695e2#df4bc384f00a47e1b37186ce51b882c0)"
      ],
      "metadata": {
        "id": "jIfGtrAUw86Z"
      }
    },
    {
      "cell_type": "markdown",
      "source": [
        "# **Часть 1: Research**"
      ],
      "metadata": {
        "id": "4udI_43Vxhr9"
      }
    },
    {
      "cell_type": "markdown",
      "source": [
        "## 1. Анализ статьи ([In-context RL with AD](https://arxiv.org/abs/2210.14215/))"
      ],
      "metadata": {
        "id": "NtgV7xb5w__b"
      }
    },
    {
      "cell_type": "markdown",
      "metadata": {
        "id": "o9WZnRwgZjID"
      },
      "source": [
        "Статья зацепила. Чем? - раскажу во второй части задания.\n",
        "\n",
        "#### **1) Основные моменты статьи:**\n",
        "- Недостатком PD является то, что результирующая политика не улучшается постепенно от дополнительного взаимодействия со средой (не может улучшить свою политику в контексте путем проб и ошибок). Методы PD учат политики, но не алгоритмы RL\n",
        "\n",
        "- То есть, задача статьи - обучить трансформер **самой цели обучаться** (MetaRL), но за счет in-context\n",
        "\n",
        "- Для этого необходимы данные, отражающие последовательный прогресс в обучении, что гипотетически позволит моделировать сам процесс обучения с подкреплением как задачу предсказания причинно-следственной связи.\n",
        "\n",
        "- Трансформер должен быть способен включать в себе представление не только политики, но и **оператора улучшения политики**\n",
        "\n",
        "- DarkRoom: Для обучения оптимальному алгоритму необходимы многоэпизодические контексты из 2-4 эпизодов в 50-150 шагов.\n",
        "\n",
        "\n",
        "\n",
        "#### **2) Подумаем: Как из данных получить оператор?**\n",
        "\n",
        "На абстрактном уровне данные истории обучения одной задаче $h^i$ содержат\n",
        "\n",
        "$$ h^i = \\left\\{  {решение \\choose задачи}^i + {улучшение \\choose решения}^i +\\ обучение\\right\\} = \\left\\{\\widehat {P}^{\\ i}+\\widehat L^{\\ i}+\\widehat L\\right\\} $$\n",
        "\n",
        "Так как оператор обучения более абстрактный/обобщенный, чем сами политики, то для его отделения/выделения нужно \"диверсифицировать\" представления политик в данных $H$:\n",
        "\n",
        "$$ H = \\sum_i h^i\\ \\ \\Longleftrightarrow\\ \\ \\ \\bigcap_i h^i = \\widehat L$$\n",
        "\n",
        "Это сработает, если мы возьмем \"линейно независимые\" политики $\\widehat {P}^{\\ i}$, то есть л.н.з. задачи.\n",
        "\n",
        "- В качестве среды возьмем *DarkRoom*\n",
        "- В качестве модели RL возьмем самую простую *Q-Learning*\n",
        "\n",
        "В DarkRoom необходимо найти goal, бродя в пустой комнате размером $N$x$N$, и в течение нескольких эпизодов оптимизировать свою траекторию. Алгоритм QL в процессе обучения такой задачи по сути создает векторное поле в виде Q-table, со стоком в точке goal. Это векторное поле в процессе обучения постепенно приходит к состоянию, когда оно становиться градиентом скалярного поля формы конуса (V) вокруг точки goal (короче, как потенциальная яма/ложбина). В такой интерпретации, получается, что трансформер должен научиться постепенно отягощать точку с предположительным goal на потенциальной в среднем ровной поверхности (с неоднородной кривизной как учетом стохастичности - механизма любопытства). Каждый $goal$^i$ можно считать разной/л.н.з. задачей.\n",
        "\n",
        "Мы будем создавать истории $h^i$, включающие решение одной $i$-той задачи (start$\\rightarrow$goal$^i$). Такие политики будут достаточно л.н.з., и чем больше разных goal мы возьмем, тем большую диверсификацию получим.\n",
        "\n",
        "#### **3) Об операторе обучения**\n",
        "\n",
        "> Политика RL улучшается на протяжении всей истории обучения. Поэтому, точное предсказание действий требует, чтобы модель AD не только выводила текущую политику из контекста, но и её улучшенные версии, таким образом выделяя оператор улучшения политики.\n",
        "\n",
        "В нашей задаче оператор обучения $\\widehat L$, по сути, превращается в оператор укорачивания траектории между фиксированными start$\\rightarrow$finish, буквально до прямой. Поэтому, за критерий улучшения в нашей среде возьмем тенденцию в сокращении длинны успешных эпизодов.\n",
        "\n",
        "На заметку:\n",
        "\n",
        "> Под контекстным обучением понимается способность выводить задачи из контекста (например, LLM могут быть направлены на решение таких задач, как завершение текста, генерация кода и резюмирование, путем указания задачи в качестве подсказки). Эта способность - внутриконтекстное обучение.\n",
        "\n",
        "Это значит, что возможно для \"вызова\" оператора может потребоваться некоторый катализатор/ключ/команда. Можно предположить, что после полного обучения трансформера для вызова оператора на тестой задаче необходимо будет скормить ему 1-4 успешных эпизода (или убедиться, что он справиться с первый эпизодом самостоятельно).\n"
      ]
    },
    {
      "cell_type": "markdown",
      "source": [
        "## 2. Код"
      ],
      "metadata": {
        "id": "92gyIw05vwaW"
      }
    },
    {
      "cell_type": "markdown",
      "source": [
        "### 1) Инициализация и основные фнукции"
      ],
      "metadata": {
        "id": "rpMqgAaaxPrl"
      }
    },
    {
      "cell_type": "code",
      "execution_count": null,
      "metadata": {
        "id": "gUeginZJ03Rm",
        "cellView": "form",
        "colab": {
          "base_uri": "https://localhost:8080/"
        },
        "outputId": "5bafca9c-49e3-48af-9322-79d3c6f92e08"
      },
      "outputs": [
        {
          "output_type": "stream",
          "name": "stdout",
          "text": [
            "Requirement already satisfied: toymeta in /usr/local/lib/python3.10/dist-packages (0.0.1)\n",
            "Requirement already satisfied: gymnasium>=0.29.0 in /usr/local/lib/python3.10/dist-packages (from toymeta) (0.29.1)\n",
            "Requirement already satisfied: numpy>=1.21.0 in /usr/local/lib/python3.10/dist-packages (from gymnasium>=0.29.0->toymeta) (1.26.4)\n",
            "Requirement already satisfied: cloudpickle>=1.2.0 in /usr/local/lib/python3.10/dist-packages (from gymnasium>=0.29.0->toymeta) (2.2.1)\n",
            "Requirement already satisfied: typing-extensions>=4.3.0 in /usr/local/lib/python3.10/dist-packages (from gymnasium>=0.29.0->toymeta) (4.12.2)\n",
            "Requirement already satisfied: farama-notifications>=0.0.1 in /usr/local/lib/python3.10/dist-packages (from gymnasium>=0.29.0->toymeta) (0.0.4)\n"
          ]
        }
      ],
      "source": [
        "# @title Скачиваем toymeta\n",
        "!pip install toymeta    # Dark Room:  https://github.com/corl-team/toy-meta-gym/blob/main/src/toymeta/dark_room.py"
      ]
    },
    {
      "cell_type": "code",
      "execution_count": null,
      "metadata": {
        "cellView": "form",
        "colab": {
          "base_uri": "https://localhost:8080/"
        },
        "id": "-rhJGH6W0hWR",
        "outputId": "3b8d14e1-d619-407a-fead-5cbd86fdac85"
      },
      "outputs": [
        {
          "output_type": "stream",
          "name": "stdout",
          "text": [
            "cuda\n"
          ]
        }
      ],
      "source": [
        "# @title Билиотеки  и выбор GPU\n",
        "import numpy as np\n",
        "import matplotlib.pyplot as plt\n",
        "import random\n",
        "import torch\n",
        "import torch.optim as optim\n",
        "import torch.nn as nn\n",
        "from collections import deque\n",
        "from toymeta.dark_room import DarkRoom\n",
        "\n",
        "import time\n",
        "from tqdm import tqdm\n",
        "import pygame;\n",
        "from PIL import Image\n",
        "\n",
        "# Определяем устройство: CPU или GPU\n",
        "device = torch.device('cuda' if torch.cuda.is_available() else 'cpu')\n",
        "print(device)"
      ]
    },
    {
      "cell_type": "code",
      "execution_count": null,
      "metadata": {
        "cellView": "form",
        "id": "9CmaLBku0mkt"
      },
      "outputs": [],
      "source": [
        "# @title Трансформер (GPT2)\n",
        "from transformers import GPT2Model, GPT2Config, GPT2Tokenizer\n",
        "\n",
        "class GPT2Policy(nn.Module):\n",
        "    def __init__(self, conf, action_dim, max_len=10):\n",
        "        super(GPT2Policy, self).__init__()\n",
        "        self.gpt2 = GPT2Model(conf)\n",
        "        self.action_head = nn.Linear(conf.n_embd, action_dim)\n",
        "\n",
        "    def forward(self, states):\n",
        "        outputs = self.gpt2(states)[0]\n",
        "        actions = self.action_head(outputs)\n",
        "        return actions"
      ]
    },
    {
      "cell_type": "code",
      "execution_count": null,
      "metadata": {
        "id": "Ks_UjkCQ0w-p",
        "cellView": "form"
      },
      "outputs": [],
      "source": [
        "# @title Генерация данных алгоритмом Q-Learning\n",
        "# Генерирует последовательность историй достижения агентом статического финиша из статического старта\n",
        "# Точка финиша и Старта изначально генерируется случайным образом\n",
        "# Метод: Q-Learning\n",
        "# Возвращает последовательность историй, история - последовательность состояний (state, action, reward)\n",
        "\n",
        "def generate_bandit_data(env, num_episodes, state_dim, action_dim, max_steps, best_story=False, pr=False):\n",
        "    stories = []\n",
        "\n",
        "    # Q-Learning\n",
        "    # Параметры обучения\n",
        "    # Можно попробовать брать случайные параметры как пример ~разных политик\n",
        "    alpha = 0.1      # Скорость обучения\n",
        "    gamma = 0.9      # Дисконтирующий фактор\n",
        "    epsilon = 1.0    # Начальное значение epsilon для epsilon-greedy\n",
        "    epsilon_decay = 0.995   # Темп снижения epsilon\n",
        "    epsilon_min = 0.2       # Минимальное значение epsilon\n",
        "\n",
        "    total_steps = 0\n",
        "\n",
        "    q_table = np.zeros((env.observation_space.n, env.action_space.n))\n",
        "    for episode in range(num_episodes):\n",
        "        state, _ = env.reset()\n",
        "        done = False\n",
        "        story = []\n",
        "        step = 0\n",
        "        best_step_flag = False\n",
        "        total_reward = 0\n",
        "        start = state\n",
        "        finish = env.pos_to_state(env.goal_pos)\n",
        "\n",
        "        for step in range(max_steps):\n",
        "            # Выбор action с использованием epsilon-greedy\n",
        "            if np.random.rand() < epsilon:\n",
        "                action = env.action_space.sample()  # Выбираем случайное действие\n",
        "            else:\n",
        "                action = np.argmax(q_table[state])  # Выбираем действие с максимальным Q-значением\n",
        "\n",
        "            next_state, reward, terminated, truncated, _ = env.step(action)\n",
        "\n",
        "            # Отладка: Для проверки на копирование трансформером политики\n",
        "            # if episode > 0.8*num_episodes:\n",
        "            #     story.append((state, action, reward))\n",
        "\n",
        "            story.append((state, action, reward))\n",
        "            total_reward += reward\n",
        "\n",
        "            # Обновление Q-таблицы\n",
        "            best_next_action = np.argmax(q_table[next_state])\n",
        "            q_table[state, action] += alpha * (reward + gamma * q_table[next_state, best_next_action] - q_table[state, action])\n",
        "\n",
        "            state = next_state\n",
        "\n",
        "            if not best_step_flag:\n",
        "                if reward > 0:\n",
        "                    best_step_flag = step\n",
        "\n",
        "            if terminated:\n",
        "                break\n",
        "\n",
        "            # Что если заканчивать эпизод при определенном total reward?\n",
        "            # Чтобы научить модель стоять при достижении цели\n",
        "            # if total_reward > max_steps/3:\n",
        "            #     break\n",
        "\n",
        "        # Снижение epsilon\n",
        "        epsilon = max(epsilon_min, epsilon * epsilon_decay)\n",
        "        if best_story:\n",
        "            if total_reward > 0: # or if done? (it's intereting)\n",
        "                stories.append(story)\n",
        "        else:\n",
        "            stories.append(story)\n",
        "        if pr:\n",
        "            print(f\"Episode {episode+1:3}/{num_episodes:03d} completed in {best_step_flag:3}/{step+1:03d} steps, reward {total_reward:4}, task ({start:2}->{state:2}/{finish})\")\n",
        "        total_steps+= int(best_step_flag)\n",
        "    print(f\"=== Episodes {len(stories):3}/{num_episodes:2} completed in {total_steps} total steps\")\n",
        "    return stories"
      ]
    },
    {
      "cell_type": "code",
      "execution_count": null,
      "metadata": {
        "id": "usSU-8eDDhQF"
      },
      "outputs": [],
      "source": [
        "# @title Токенизация и Обучение\n",
        "\n",
        "# Токенизация данных\n",
        "# Вижу два варианта токенизировать:\n",
        "# [+] В тройки токенов (s, a, r)\n",
        "# [-] В один токен, соответствующий уникальной тройке (например, r*1 + a*10 + s*100)\n",
        "\n",
        "# Функции для преобразования состояний, действий и вознаграждений в токены\n",
        "def tokenize_three(three):\n",
        "    tokens = []\n",
        "    state, action, reward = three\n",
        "    tokens.append(action_dim + state)  # Смещаем действия\n",
        "    tokens.append(action)  # Предполагается, что action уже является токеном: небольшая хитрость, чтобы не декодировать его при подсчете loss\n",
        "    tokens.append(state_dim + action_dim + int(reward))  # Cмещаем вознаграждения\n",
        "    return tokens\n",
        "\n",
        "def tokenize_end():\n",
        "    eos_token = config.vocab_size - 1\n",
        "    return [eos_token, 0, eos_token]\n",
        "\n",
        "def tokenize_sequence(sequences):\n",
        "    tokens = []\n",
        "    for sequence in sequences:\n",
        "        for three in sequence:\n",
        "            tokens.extend(tokenize_three(three))\n",
        "        tokens.extend(tokenize_end())  # Добавляем токен конца последовательности\n",
        "    return tokens\n",
        "\n",
        "# Функция подготовки данных для обучения\n",
        "# Делим последовательность последовательностей на случайные чанки в количестве*(chunk_freq)\n",
        "# И возвращаем массив из индексов начал чанков\n",
        "def generate_chunks_num(tokens, chunk_size, chunk_freq=1):\n",
        "    # Разбиваем на chunks длиной max_len\n",
        "    # Причем не важно - начало это эпизода или где ещё\n",
        "    chunks = []\n",
        "    num_chunks = ((len(tokens)//3) // chunk_size)  # Число чанков\n",
        "    for i in range(num_chunks * chunk_freq):\n",
        "        rand = random.randint(0, len(tokens) - chunk_size*3)\n",
        "        rand-= rand % 3         # х3 - потому что tokens хранит state-action-reward\n",
        "        chunks.append(rand)\n",
        "    return chunks\n",
        "\n",
        "# Обучение\n",
        "def train_model(model, data, chunk_size, epochs=10, chunk_freq=1, lr=1e-4):\n",
        "    model = model.to(device)\n",
        "\n",
        "    optimizer = optim.Adam(model.parameters(), lr=lr)\n",
        "    criterion = nn.CrossEntropyLoss()\n",
        "\n",
        "    loss_data = []\n",
        "\n",
        "    # Подготовка данных\n",
        "    tokens = tokenize_sequence(data)\n",
        "    chunks = generate_chunks_num(tokens, chunk_size, chunk_freq)  # Индексы начала чанков\n",
        "\n",
        "    for epoch in range(epochs):\n",
        "        total_loss = 0\n",
        "\n",
        "        for chunk in tqdm(chunks):\n",
        "            # Преобразование чанка в тензор\n",
        "            batch = torch.tensor(tokens[chunk:chunk+chunk_size*3], dtype=torch.long).unsqueeze(0).to(device)\n",
        "\n",
        "            # Разделение входных данных и целевых action\n",
        "            inputs = batch[:, :-2]  # Все кроме последних action-reward\n",
        "            targets = batch[:, 1::3]  # Все action\n",
        "\n",
        "            optimizer.zero_grad()\n",
        "            logits = model(inputs).squeeze(0)\n",
        "\n",
        "            # Преобразование логитов и целевых action к нужной форме\n",
        "            logits = logits[0::3,:]  # Отбираем только логиты предсказанных action (на местах входных state)\n",
        "            logits = logits.view(-1, logits.size(-1))\n",
        "            target_actions = targets.view(-1).to(device)\n",
        "\n",
        "            loss = criterion(logits, target_actions)\n",
        "            loss.backward()\n",
        "            optimizer.step()\n",
        "            total_loss += loss.item()\n",
        "            loss_data.append(loss.item())\n",
        "        print(f'Epoch {epoch+1}, Loss: {total_loss}')\n",
        "\n",
        "    # Построение графика потерь\n",
        "    plt.figure(figsize=(10, 5))\n",
        "    plt.plot(loss_data, label='Training Loss')\n",
        "    plt.xlabel('Batch')\n",
        "    plt.ylabel('Loss')\n",
        "    plt.title('Training Loss over Batches')\n",
        "    plt.legend()\n",
        "    plt.show()"
      ]
    },
    {
      "cell_type": "markdown",
      "metadata": {
        "id": "lmvxn8NFbhaD"
      },
      "source": [
        "### 2) Экспериментальная установка"
      ]
    },
    {
      "cell_type": "code",
      "execution_count": null,
      "metadata": {
        "colab": {
          "base_uri": "https://localhost:8080/"
        },
        "id": "4ci0gIxr1JkY",
        "outputId": "0e69e8b3-1121-4532-e0ce-c097ccc28a40"
      },
      "outputs": [
        {
          "output_type": "stream",
          "name": "stdout",
          "text": [
            "--- Agent 0 start task (R->42) ---\n",
            "=== Episodes 104/120 completed in 2259 total steps\n",
            "--- Agent 1 start task (R->43) ---\n",
            "=== Episodes 106/120 completed in 2606 total steps\n",
            "--- Agent 2 start task (R->26) ---\n",
            "=== Episodes  90/120 completed in 2191 total steps\n",
            "--- Agent 3 start task (R->4) ---\n",
            "=== Episodes 106/120 completed in 2860 total steps\n",
            "--- Agent 4 start task (R->11) ---\n",
            "=== Episodes  97/120 completed in 2567 total steps\n",
            "--- Agent 5 start task (R->26) ---\n",
            "=== Episodes  93/120 completed in 2545 total steps\n",
            "--- Agent 6 start task (R->25) ---\n",
            "=== Episodes  82/120 completed in 1833 total steps\n",
            "--- Agent 7 start task (R->34) ---\n",
            "=== Episodes  95/120 completed in 1960 total steps\n",
            "--- Agent 8 start task (R->28) ---\n",
            "=== Episodes  91/120 completed in 1936 total steps\n",
            "--- Agent 9 start task (R->14) ---\n",
            "=== Episodes  98/120 completed in 2262 total steps\n",
            "--- Agent 10 start task (R->57) ---\n",
            "=== Episodes  97/120 completed in 1922 total steps\n",
            "--- Agent 11 start task (R->57) ---\n",
            "=== Episodes  99/120 completed in 2151 total steps\n",
            "--- Agent 12 start task (R->59) ---\n",
            "=== Episodes 106/120 completed in 2341 total steps\n",
            "--- Agent 13 start task (R->61) ---\n",
            "=== Episodes  99/120 completed in 2420 total steps\n",
            "--- Agent 14 start task (R->59) ---\n",
            "=== Episodes 106/120 completed in 2406 total steps\n",
            "--- Agent 15 start task (R->52) ---\n",
            "=== Episodes  89/120 completed in 2194 total steps\n",
            "--- Agent 16 start task (R->75) ---\n",
            "=== Episodes  85/120 completed in 2392 total steps\n",
            "--- Agent 17 start task (R->14) ---\n",
            "=== Episodes  98/120 completed in 2275 total steps\n",
            "--- Agent 18 start task (R->70) ---\n",
            "=== Episodes  98/120 completed in 2528 total steps\n",
            "--- Agent 19 start task (R->30) ---\n",
            "=== Episodes  96/120 completed in 2075 total steps\n",
            "--- Agent 20 start task (R->31) ---\n",
            "=== Episodes 105/120 completed in 1977 total steps\n",
            "--- Agent 21 start task (R->20) ---\n",
            "=== Episodes 102/120 completed in 2253 total steps\n",
            "--- Agent 22 start task (R->65) ---\n",
            "=== Episodes  88/120 completed in 2041 total steps\n",
            "--- Agent 23 start task (R->5) ---\n",
            "=== Episodes  91/120 completed in 2069 total steps\n",
            "--- Agent 24 start task (R->18) ---\n",
            "=== Episodes  97/120 completed in 2381 total steps\n"
          ]
        }
      ],
      "source": [
        "### Инициализация параметров\n",
        "env_size = 9              # Размер среды DarkRoom\n",
        "state_dim = env_size**2   # Размер пространства состояний среды (9x9)\n",
        "action_dim = 5            # Размер пространства дейтсвий\n",
        "\n",
        "num_stories = 25          # Количество разных задач (разных = случайных начальных условий)\n",
        "num_episodes = 120        # Количество последовательных эпизодов в обучении одной задаче (длина истории)\n",
        "max_steps = 100           # Предел по количеству шагов в одном эпизоде (чтобы отбрасывать слишком долгие эпизоды)\n",
        "terminate_on_goal = True  # Заканчивать эпизод по достижению цели\n",
        "best_story = True         # Брать ли только оконченные эпизоды? (terminated on goal)\n",
        "random_start = True       # Случайные начальные координаты\n",
        "\n",
        "trajectory_print = False   # Вывод генерированных траекторий\n",
        "\n",
        "\n",
        "\n",
        "### Генерация историй\n",
        "# Формат\n",
        "# [-] Одна история из последовательности попыток: [(o1,a1,r1), ..., (og,ag,rg), /достиг goal -> вернулся в начало/ , (o1,a1,r1), .../-> достиг оптимальной политики/]\n",
        "# [-] Или каждая попытка по отдельности:  [[(oar)1, ... (oar)g], .../достиг оптимальной политики по задаче/, [(oar),...], /история следующих агентов-задач/...]\n",
        "# [+] Всё в одну длинную последовательность. При токенизации добавлять токен конца последовательности\n",
        "\n",
        "\n",
        "# Создаем истории обучения нескольких агентов (с разными координатами цели)\n",
        "data = []\n",
        "goal = None   # Случайные\n",
        "\n",
        "for agent in range(num_stories):\n",
        "    # Обновляем среду (координаты финиша). Каждый агент - разная задача\n",
        "    env = DarkRoom(size=env_size, goal=goal, random_start=random_start, terminate_on_goal=terminate_on_goal, render_mode=\"rgb_array\")\n",
        "    state, _ = env.reset()\n",
        "    finish = env.pos_to_state(env.goal_pos)\n",
        "\n",
        "    # Генерация последовательностей эпизодов одной задачи\n",
        "    print(f'--- Agent {agent} start task ({state if not random_start else \"R\"}->{finish}) ---')\n",
        "    data.extend(generate_bandit_data(env, num_episodes, state_dim, action_dim, max_steps, best_story=best_story, pr=trajectory_print))\n"
      ]
    },
    {
      "cell_type": "code",
      "execution_count": null,
      "metadata": {
        "colab": {
          "base_uri": "https://localhost:8080/",
          "height": 1000
        },
        "id": "qL_wErDyBvlh",
        "outputId": "3afd7e16-2eab-46a4-e2f8-378b754b9584"
      },
      "outputs": [
        {
          "output_type": "stream",
          "name": "stdout",
          "text": [
            "Training in 20 epoch:\n"
          ]
        },
        {
          "output_type": "stream",
          "name": "stderr",
          "text": [
            "100%|██████████| 1632/1632 [00:24<00:00, 67.23it/s]\n"
          ]
        },
        {
          "output_type": "stream",
          "name": "stdout",
          "text": [
            "Epoch 1, Loss: 1540.361756503582\n"
          ]
        },
        {
          "output_type": "stream",
          "name": "stderr",
          "text": [
            "100%|██████████| 1632/1632 [00:23<00:00, 68.16it/s]\n"
          ]
        },
        {
          "output_type": "stream",
          "name": "stdout",
          "text": [
            "Epoch 2, Loss: 1493.6606643795967\n"
          ]
        },
        {
          "output_type": "stream",
          "name": "stderr",
          "text": [
            "100%|██████████| 1632/1632 [00:23<00:00, 69.17it/s]\n"
          ]
        },
        {
          "output_type": "stream",
          "name": "stdout",
          "text": [
            "Epoch 3, Loss: 1464.5096015930176\n"
          ]
        },
        {
          "output_type": "stream",
          "name": "stderr",
          "text": [
            "100%|██████████| 1632/1632 [00:23<00:00, 68.21it/s]\n"
          ]
        },
        {
          "output_type": "stream",
          "name": "stdout",
          "text": [
            "Epoch 4, Loss: 1442.9533557891846\n"
          ]
        },
        {
          "output_type": "stream",
          "name": "stderr",
          "text": [
            "100%|██████████| 1632/1632 [00:24<00:00, 67.67it/s]\n"
          ]
        },
        {
          "output_type": "stream",
          "name": "stdout",
          "text": [
            "Epoch 5, Loss: 1422.3262394070625\n"
          ]
        },
        {
          "output_type": "stream",
          "name": "stderr",
          "text": [
            "100%|██████████| 1632/1632 [00:23<00:00, 68.69it/s]\n"
          ]
        },
        {
          "output_type": "stream",
          "name": "stdout",
          "text": [
            "Epoch 6, Loss: 1403.6427756547928\n"
          ]
        },
        {
          "output_type": "stream",
          "name": "stderr",
          "text": [
            "100%|██████████| 1632/1632 [00:23<00:00, 69.50it/s]\n"
          ]
        },
        {
          "output_type": "stream",
          "name": "stdout",
          "text": [
            "Epoch 7, Loss: 1388.6887826919556\n"
          ]
        },
        {
          "output_type": "stream",
          "name": "stderr",
          "text": [
            "100%|██████████| 1632/1632 [00:23<00:00, 69.26it/s]\n"
          ]
        },
        {
          "output_type": "stream",
          "name": "stdout",
          "text": [
            "Epoch 8, Loss: 1374.5465506315231\n"
          ]
        },
        {
          "output_type": "stream",
          "name": "stderr",
          "text": [
            "100%|██████████| 1632/1632 [00:23<00:00, 68.57it/s]\n"
          ]
        },
        {
          "output_type": "stream",
          "name": "stdout",
          "text": [
            "Epoch 9, Loss: 1358.3137737512589\n"
          ]
        },
        {
          "output_type": "stream",
          "name": "stderr",
          "text": [
            "100%|██████████| 1632/1632 [00:23<00:00, 68.61it/s]\n"
          ]
        },
        {
          "output_type": "stream",
          "name": "stdout",
          "text": [
            "Epoch 10, Loss: 1344.5930551290512\n"
          ]
        },
        {
          "output_type": "stream",
          "name": "stderr",
          "text": [
            "100%|██████████| 1632/1632 [00:23<00:00, 68.79it/s]\n"
          ]
        },
        {
          "output_type": "stream",
          "name": "stdout",
          "text": [
            "Epoch 11, Loss: 1334.112991988659\n"
          ]
        },
        {
          "output_type": "stream",
          "name": "stderr",
          "text": [
            "100%|██████████| 1632/1632 [00:23<00:00, 68.69it/s]\n"
          ]
        },
        {
          "output_type": "stream",
          "name": "stdout",
          "text": [
            "Epoch 12, Loss: 1323.5305507183075\n"
          ]
        },
        {
          "output_type": "stream",
          "name": "stderr",
          "text": [
            "100%|██████████| 1632/1632 [00:23<00:00, 68.67it/s]\n"
          ]
        },
        {
          "output_type": "stream",
          "name": "stdout",
          "text": [
            "Epoch 13, Loss: 1311.282988190651\n"
          ]
        },
        {
          "output_type": "stream",
          "name": "stderr",
          "text": [
            "100%|██████████| 1632/1632 [00:23<00:00, 69.05it/s]\n"
          ]
        },
        {
          "output_type": "stream",
          "name": "stdout",
          "text": [
            "Epoch 14, Loss: 1299.4740231633186\n"
          ]
        },
        {
          "output_type": "stream",
          "name": "stderr",
          "text": [
            "100%|██████████| 1632/1632 [00:23<00:00, 68.71it/s]\n"
          ]
        },
        {
          "output_type": "stream",
          "name": "stdout",
          "text": [
            "Epoch 15, Loss: 1289.5823682546616\n"
          ]
        },
        {
          "output_type": "stream",
          "name": "stderr",
          "text": [
            "100%|██████████| 1632/1632 [00:23<00:00, 68.91it/s]\n"
          ]
        },
        {
          "output_type": "stream",
          "name": "stdout",
          "text": [
            "Epoch 16, Loss: 1278.4153343439102\n"
          ]
        },
        {
          "output_type": "stream",
          "name": "stderr",
          "text": [
            "100%|██████████| 1632/1632 [00:23<00:00, 68.74it/s]\n"
          ]
        },
        {
          "output_type": "stream",
          "name": "stdout",
          "text": [
            "Epoch 17, Loss: 1269.2364801764488\n"
          ]
        },
        {
          "output_type": "stream",
          "name": "stderr",
          "text": [
            "100%|██████████| 1632/1632 [00:23<00:00, 69.09it/s]\n"
          ]
        },
        {
          "output_type": "stream",
          "name": "stdout",
          "text": [
            "Epoch 18, Loss: 1258.7828060388565\n"
          ]
        },
        {
          "output_type": "stream",
          "name": "stderr",
          "text": [
            "100%|██████████| 1632/1632 [00:23<00:00, 69.25it/s]\n"
          ]
        },
        {
          "output_type": "stream",
          "name": "stdout",
          "text": [
            "Epoch 19, Loss: 1251.1116491556168\n"
          ]
        },
        {
          "output_type": "stream",
          "name": "stderr",
          "text": [
            "100%|██████████| 1632/1632 [00:23<00:00, 69.24it/s]\n"
          ]
        },
        {
          "output_type": "stream",
          "name": "stdout",
          "text": [
            "Epoch 20, Loss: 1242.373454451561\n"
          ]
        },
        {
          "output_type": "display_data",
          "data": {
            "text/plain": [
              "<Figure size 1000x500 with 1 Axes>"
            ],
            "image/png": "[encoded data removed]"
          },
          "metadata": {}
        }
      ],
      "source": [
        "### Алгоритм дистилляции\n",
        "\n",
        "histories_size = 30            # Длина эпизодичности контекстов обучения\n",
        "                               # Однако, эпизоды разной длины, поэтому чанк охватывает\n",
        "chunk_size = histories_size * max_steps//8   # Средняя длинна эпизода меньше (~в 6-8 раз)\n",
        "\n",
        "# Правильнее было бы хранить эпизоды по отдельности\n",
        "# и только потом превращать в чанки нужной эпизодичности и токены\n",
        "\n",
        "chunk_freq = 8   # Количество случайных чанков в отношении к общей вместительности из таких чанков\n",
        "context_size = 3 * chunk_size\n",
        "\n",
        "epoch = 20\n",
        "\n",
        "# Инициализация модели GPT-2\n",
        "config = GPT2Config(\n",
        "    vocab_size=128,     # Примерно 128 > num_state + num_action + num_reward\n",
        "    max_position_embeddings=context_size,\n",
        "    n_positions=context_size,\n",
        "    n_ctx=context_size,\n",
        "    n_embd=256,\n",
        "    n_layer=5,\n",
        "    n_head=4,\n",
        "    n_inner=256,\n",
        "    resid_pdrop=0.1,         # Dropout rate для residuus соединений\n",
        "    attn_pdrop=0.5,          # Dropout rate для механизма внимания\n",
        "    embd_pdrop=0.1,          # Dropout для эмбеддингов\n",
        "    layer_norm_epsilon=1e-5, # Epsilon для LayerNorm\n",
        "    initializer_range=0.02,  # Начальный диапазон для весов\n",
        "    use_cache=True,          # Использовать кэширование\n",
        "    position_embedding_type=\"relative_key_query\", # Относительные позиционные эмбеддинги для ключей и запросов\n",
        "                                                  # Позволяет модели учитывать и ключевые моменты в последовательности, и их взаимосвязь\n",
        ")\n",
        "\n",
        "# model = GPT2Policy(config, action_dim)\n",
        "\n",
        "# Обучение модели\n",
        "print(f'Training in {epoch} epoch:')\n",
        "train_model(model, data, chunk_size, epoch, chunk_freq)\n"
      ]
    },
    {
      "cell_type": "markdown",
      "metadata": {
        "id": "gHh43yCB9OCk"
      },
      "source": [
        "### 3) Тестирование"
      ]
    },
    {
      "cell_type": "code",
      "execution_count": null,
      "metadata": {
        "cellView": "form",
        "id": "vR6TGHtN58B7"
      },
      "outputs": [],
      "source": [
        "# @title Функция тестирования\n",
        "# Тестирование\n",
        "\n",
        "def render_environment(env):\n",
        "    # Отображаем текущее состояние среды\n",
        "    frame = env.render()\n",
        "\n",
        "    # Проверяем, если состояние является изображением\n",
        "    if frame.ndim == 3 and frame.shape[2] == 3:\n",
        "        frame = np.transpose(frame, (1, 0, 2))  # Транспонируем изображение, если необходимо\n",
        "        return pygame.surfarray.make_surface(frame)\n",
        "    else:\n",
        "        raise ValueError(\"Неверный формат изображения. Проверьте метод render()\")\n",
        "\n",
        "\n",
        "\n",
        "# Тест с Визуализацией\n",
        "# gif_episode = False or num_frame - делать гифку кажыде n эпизодов\n",
        "# story       = предыстория обучения\n",
        "# best_story  = True - отбирать только истрии с reward > 0\n",
        "\n",
        "def test(model, env, num_episodes=20, max_steps=100, gif_episode=False, story = [], best_story=False):\n",
        "\n",
        "    gif_flag = False\n",
        "    if gif_episode:\n",
        "        pygame.init()\n",
        "        window_size = 600  # Установите размер окна\n",
        "        screen = pygame.display.set_mode((window_size, window_size))\n",
        "        clock = pygame.time.Clock()\n",
        "\n",
        "    # Переносим на GPU\n",
        "    model.to(device)\n",
        "\n",
        "    for episode in range(num_episodes):\n",
        "        state, _ = env.reset()\n",
        "        action = 0\n",
        "        reward = 0.0\n",
        "        story.extend(tokenize_three([state, action, reward]))\n",
        "        done = False\n",
        "        step = 0\n",
        "        total_reward = 0\n",
        "\n",
        "        if gif_episode:\n",
        "            if episode % gif_episode == 0:\n",
        "                gif_text = f'Ep{episode+1} GIF saved!'\n",
        "                frames = []\n",
        "                gif_flag = True\n",
        "        if not gif_flag:\n",
        "            gif_text = ''\n",
        "\n",
        "        for step in range(max_steps):\n",
        "            # Выбираем лучшее действие\n",
        "            input_tensor = torch.tensor(story, dtype=torch.long).unsqueeze(0).to(device)\n",
        "            logits = model(input_tensor)\n",
        "            action = torch.argmax(logits[0][-2], dim=-1).item()  # Берем только last action из под state-action-reward\n",
        "\n",
        "            # Выполняем шаг\n",
        "            next_state, reward, terminated, _, _ = env.step(action)\n",
        "            total_reward += reward\n",
        "\n",
        "            if gif_flag:\n",
        "                # Рендерим текущее состояние среды\n",
        "                frame = render_environment(env)\n",
        "\n",
        "                # Масштабируем изображение до размера окна\n",
        "                frame = pygame.transform.scale(frame, (window_size, window_size))\n",
        "\n",
        "                # Отображаем кадр\n",
        "                screen.blit(frame, (0, 0))\n",
        "                pygame.display.flip()\n",
        "\n",
        "                # Добавляем кадр в список\n",
        "                frame_data = pygame.surfarray.array3d(frame)\n",
        "                frame_data = np.transpose(frame_data, (1, 0, 2))  # Приведение к правильному формату\n",
        "                frames.append(Image.fromarray(frame_data))\n",
        "\n",
        "                # Пауза между кадрами\n",
        "                # clock.tick(20)  # 20 FPS\n",
        "\n",
        "            if best_story:\n",
        "                if total_reward > 0.0:\n",
        "                    story.extend(tokenize_three([state, action, reward]))\n",
        "                    # print('круто, записал >')\n",
        "            else:\n",
        "                story.extend(tokenize_three([state, action, reward]))\n",
        "                # print('записал >')\n",
        "            if len(story) > context_size*3:\n",
        "                story = story[-context_size*3:]\n",
        "\n",
        "            state = next_state\n",
        "\n",
        "            if terminated:\n",
        "                break\n",
        "        story.extend(tokenize_end())\n",
        "\n",
        "\n",
        "        print(f'Episode {episode+1:2}/{num_episodes}, Steps: {step:2}, Reward: {total_reward:4}, ' + gif_text)\n",
        "\n",
        "        if gif_flag:\n",
        "            # Сохранение GIF\n",
        "            gif_filename = f\"episode_{episode+1:03d}.gif\"\n",
        "            frames[0].save(gif_filename, save_all=True, append_images=frames[1:], optimize=False, duration=100, loop=0)\n",
        "\n",
        "    if gif_episode:\n",
        "        print('GIF\\'s saved!')\n",
        "        pygame.quit()\n",
        "\n",
        "    env.close()\n"
      ]
    },
    {
      "cell_type": "markdown",
      "source": [
        "Заранее скажу, что по результатам In-Context наблюдать не смог. Анализ в выводах."
      ],
      "metadata": {
        "id": "Wah0AFZiBHa-"
      }
    },
    {
      "cell_type": "code",
      "execution_count": null,
      "metadata": {
        "id": "7J4swRcQZTWh"
      },
      "outputs": [],
      "source": [
        "# Настроки для тестов\n",
        "num_episodes = 100\n",
        "max_steps = 200\n",
        "goal = None\n",
        "# goal = (8,6)\n",
        "best_story = True     # Сохранять в историю (контекст) только успешные эпизоды\n",
        "gif_episode = False    # Создавать гиф на каждый эпизод"
      ]
    },
    {
      "cell_type": "code",
      "execution_count": null,
      "metadata": {
        "id": "JRkVOQczXs5X"
      },
      "outputs": [],
      "source": [
        "# Тест новой задачи\n",
        "env = DarkRoom(size=9, goal=goal, random_start=random_start, terminate_on_goal=terminate_on_goal, render_mode=\"rgb_array\")  # Обновились координаты goal\n",
        "\n",
        "test(model, env, num_episodes, max_steps, gif_episode, story=[], best_story=best_story)"
      ]
    },
    {
      "cell_type": "markdown",
      "metadata": {
        "id": "zZJPZmCTEVvW"
      },
      "source": [
        "Если долго не может найти цель, попробуем первую историю генерировать как показательную:"
      ]
    },
    {
      "cell_type": "markdown",
      "source": [
        "К сожалению, у следующего кода под самый конец моих экспериментов (под кульминацию) появилась ошибка связанная с девайсом CUDA, которая ломает весь колаб. Разобраться и исправить, увы, не успел."
      ],
      "metadata": {
        "id": "iJkbnJBnxOtp"
      }
    },
    {
      "cell_type": "code",
      "execution_count": null,
      "metadata": {
        "id": "c7awP0LUa21z"
      },
      "outputs": [],
      "source": [
        "# Тест новой задачи\n",
        "# с предыстрией начинающего успешного агента😎\n",
        "\n",
        "env = DarkRoom(size=9, goal=goal, random_start=random_start, terminate_on_goal=terminate_on_goal, render_mode=\"rgb_array\")  # Обновились координаты goal\n",
        "\n",
        "pre_episodes = 20     # Количество эпизодов успешного агента\n",
        "pre_steps = max_steps # Число последних шагов успещного агента, из которых состоит предыстория\n",
        "prestory = generate_bandit_data(env, pre_episodes, state_dim, action_dim, max_steps, best_story, pr=True)[-max_steps:]\n",
        "\n",
        "test(model, env, num_episodes, max_steps, gif_episode, story=tokenize_sequence(prestory), best_story=best_story)\n"
      ]
    },
    {
      "cell_type": "markdown",
      "source": [
        "## 3. Выводы"
      ],
      "metadata": {
        "id": "-UD1AHhPwklZ"
      }
    },
    {
      "cell_type": "markdown",
      "source": [
        "### Почему не полулось обнаружить In-Context\n",
        "1) Мало эпох обучения\n",
        "- ближе к дедлайну стал дольше обучать (эпох 30-40), видеть прогресс модели, но доэксперименировать не удалось\n",
        "\n",
        "2) Мало данных\n",
        "- увеличивал до 100 историй по 100 эпизодов\n",
        "- можно увеличить число задач до 100 случайных\n",
        "(максимум есть 81 одна разная задача)\n",
        "\n",
        "3) Не верно организованы батчи\n",
        "\n",
        "- батчи имеют неизвестное число эпизодов (но строгий размер)\n",
        "- батчи начинаются со случайного токена\n",
        "- батчи объединяют последовательность разных историй\n",
        "\n",
        "4) Не верные гиперпараметры и модель\n",
        "- длина батчей ~ количество эпизодов не отражают \"обучение\"\n",
        "- сама модель трансформера неудачная (число слоев, голов, эмбэдингов, архитектура...)\n",
        "\n",
        "5) Плохо подаются данные\n",
        "- не различает 3 модальности\n",
        "- возможно стоит по другому токенизировать\n",
        "- или использовать архитектуру с мультимодальностью\n",
        "\n",
        "6) Сами обучающие данные плохо отражают обучение\n",
        "- возможно QL не качественно отражает обучение методом проб и ошибок\n",
        "\n",
        "7) Тестирование\n",
        "- Возможно трансформеру не хватает катализатора/ключа/команды, чтобы вызвать оператор \"обучения\". Решение - давать ему начало (3-4 эпизода) из успешной истории\n",
        "\n"
      ],
      "metadata": {
        "id": "yGeNu0JH18Ud"
      }
    },
    {
      "cell_type": "markdown",
      "source": [
        "## 4. Идеи и Гипотезы"
      ],
      "metadata": {
        "id": "0-oFB-Irz2eu"
      }
    },
    {
      "cell_type": "markdown",
      "source": [
        "Если принять интерпретацию работы нейросетей и, в частности, трансформеров:\n",
        "- каждый новый слой имеет в своем эмбэдинге более абстрактные и общие представления.\n",
        "\n",
        "Что если сначала обучать модель самим эпизодам, и оптимизировать её до представлений эпизода (начало и конец с наградой, токен конца эпизода, понимание \"стенок\", простые шаблоны движения, любопытсво (стохастичность)). То есть, научить её фантазировать развитие эпизода вплоть до `reward=1`. И только после обучения всем базовым (\"приземленным\") представлениям, начать давать ей целые истории, чтобы она начала искать более абстрактные/общие представления, эпизодическую связь, в поисках того самого \"оператора обучения\".\n",
        "\n",
        "Поэкспериментировать с этой гипотезой не успел."
      ],
      "metadata": {
        "id": "nULT8pXaz9vt"
      }
    },
    {
      "cell_type": "markdown",
      "source": [
        "# **Часть 2: Scientist**"
      ],
      "metadata": {
        "id": "Qn-VUIBBxPPj"
      }
    },
    {
      "cell_type": "markdown",
      "source": [
        "**Задание:**\n",
        "Расскажите о трех статьях с A* конференций по RL, которые зацепили вас больше всего за последние пару лет..."
      ],
      "metadata": {
        "id": "Frf2uaNSSZ0t"
      }
    },
    {
      "cell_type": "markdown",
      "source": [
        "Я аспирант и выбрал специальность [5.12.4. Когнитивное моделировани](https://vak.minobrnauki.gov.ru/uploader/loader?type=17&name=92259542002&f=15363) (п.1/8/11/12), и мой интерес обобщается созданием когнитивного ИИ.\n",
        "\n",
        "Иначе говоря, мне интересны в первую очередь именно теоретические модели человеческого разума (или живых существ), и уже на основе этих представлений и моделей формализовать программные модели ИИ.\n",
        "\n",
        "По этому, последний год мне были интересны более абстрактные статьи, которые дают мне общую картину и пространство для идей, которые позволяют лучше интерпретировать собственное мышление и проецировать на современные модели нейросетей, чтобы уже на основе этого понимания формализовать новые когнивтиные карты и модели разума/ИИ.\n",
        "\n",
        "Пример теоретических:\n",
        "- [Байесовская модель](https://royalsocietypublishing.org/doi/pdf/10.1098/rsfs.2022.0029) мозга\n",
        "  - Описывает мозг как пространство убеждений, которые обновляются в процессе получения новой информации (связанной с \"неожиданностью\" - отличием информации от предсказываемой убеждениями)\n",
        "- Принципы [теории разума](https://www.frontiersin.org/journals/systems-neuroscience/articles/10.3389/fnsys.2016.00084/full)\n",
        "  - Описывает знания человека в виде метапространства концепций (\"паутины\" отношений объектов, явлений и идей), концеции в которой имеют когнитивную иерархию: от \"приземленных\" представлений объектов и явлений до абстрактных представлений идей (тут можно вспомнить обобщающую способность тех же трансформеров, или автоэнкодеров), которые проявляются как нисходящие и восходящие сигналы в биологических НС.\n",
        "- Модель двойного процесса\n",
        "  - Мозг действует в двух \"режимах\": Система 1, выполняющая уже известные обученные операции быстро и бессознательно (как готовая обученная нейросеть), и Система 2, выделяющая внимание при встрече с \"неожиданностью\" для сознательных умственных усиличий по обновлению \"предсказательной машины\" (обновлению убеждений)\n",
        "- [Принцип свободной энергии](https://www.sciencedirect.com/science/article/pii/S1571064517301409)\n",
        "  - Он гласит о том, что живые существа, как самоорганизующиеся системы, стремятся к поглощению информации из окружающей среды (негэнтропии) для увеличения собственной упорядоченности, самосохранения. Если углубляться, этот принцип по сути описывает RL, но характеризует причины появления живых систем и \"разума\" через естественный отбор и фундаментальные физические принципы.\n",
        "- И другие модели из когнитивных наук (тоже \"внимание\").\n",
        "\n",
        "\n",
        "Если говорить про более прикладныее RL статьи, самой яркой вспомнил:\n",
        "- [Модель мира](https://arxiv.org/abs/2301.04104) (и аналогичные статьи)\n",
        "  - сама идея вдохновлена человеческим мышлением - способностью моделировать мир в воображении, заранее делать предсказания последствий каких-либо действий, и постепенно обучаться на все том же методе проб и ошибок, но уже обновляя механизмы модели мира (познание мира). Это сильно позволяет ускорять обучение, и цепляет это по двум причинам:\n",
        "    - как минимум, каждый любитель точных наук пользуется такой способностью\n",
        "    - потому что, такой метод позволяет быстрее обучаться, дел\n",
        "    - нейросеть это универсальная функция, которую можно по шажочкам оптимизировать до искомой. Функция это практически тоже самое что и модель. Значит, любое представление объектов и явлений мира явлется моделью, ну или субмоделью в общей модели мира. Поэтому, как и человека, такую нейросеть теоретически можно медленно обучать субмоделям (объектам, явлениям, действиям), собирая целую картину. Но следствие, которое сводит меня с ума в этой идее, что представление в модели мира самого себя (того кто воспроизводит эту модель) является той рефлексией порождающей самосознание в разумных существах.\n",
        "    - и это по сути снова отражает принцип свободной энергии, упомянутый ранее: живые системы поглащают информацию об окружающем мире (делая его для себя предсказуемым), для того чтобы адаптироваться (сохранить собственную упорядоченность, ну то есть выжить). А значит любой RL алгоритм универсально стремиться выстроить как можно более подробную модель мира (или ограниченно - модель окружающей его среды, словно обучение сходится к отражению)\n",
        "    - а ещё очень цепляет применение таких алгоритмов на симмуляторах-песочницах с открытым миром по типу MineCraft\n",
        "\n",
        "Меня также зацепила одна идея, на основе статьи к этому заданию ([In-context RL with AD](https://arxiv.org/abs/2210.14215/)):\n",
        "- факт того, что нейросеть обучилась \"оператор\"\n",
        "\n",
        "Другими словами, нейросеть научилась какому-то действию. И ведь если задуматься, большинство действий можно представить в виде инструкций из простых базовых действий, команд (субфункций). GPT научился этим базовым действиям работы с текстом, но, имея некоторую модель мира, он также научился моделировать более \"реальные\" действия в виде текстовых последовательностей.\n",
        "\n",
        "Из этой мысли появляется много интересных общих идей:\n",
        "- Можно ли у GPT развить модель мира?\n",
        "- Можно рекурсивно замкнуть GPT с промтом создания новых действий на основе старых?\n",
        "- Получается, глубокие сети имеют способность хранить не только \"знания\", но и операторы (действия, с конкретной целью). Это спускает концепции \"знаний\", как вывода нейросети, с действиями. То есть, часть выходных токенов нейросети можно напрямую подключать к действиям, а часть оставлять как новое знание (мысль) и возвращать на вход. Ну эта идея у меня уже связана непосредственно с тем, что я путаюсь реализовать в своей диссертации.\n",
        "\n",
        "\n",
        "\n",
        "Тематикой своей диссертации я выбрал: \"Моделирование рефлексивного мышления искусственных агентов в обучении с подкреплением\". Этим летом начал продумывать методы эксперимента, и чувствую, что направление исследований Вашей команды (Адаптивные агенты) очень перспективно взаимосвязано с моей темой. Поэтому хотелось бы пообщаться на эту тему как ученые и помочь друг другу в реализации идей.\n",
        "\n"
      ],
      "metadata": {
        "id": "hLzuSm1JKFhA"
      }
    }
  ],
  "metadata": {
    "colab": {
      "provenance": [],
      "collapsed_sections": [
        "rpMqgAaaxPrl"
      ],
      "authorship_tag": "ABX9TyPoN6Q5OJxK0w0Wn28rY+pX",
      "include_colab_link": true
    },
    "kernelspec": {
      "display_name": "Python 3",
      "name": "python3"
    },
    "language_info": {
      "name": "python"
    }
  },
  "nbformat": 4,
  "nbformat_minor": 0
}